{
 "cells": [
  {
   "cell_type": "code",
   "execution_count": 6,
   "id": "62d1b22b-6ae4-46b4-b900-c8de1f479c68",
   "metadata": {},
   "outputs": [],
   "source": [
    "n = 5 # input \n",
    "m = 3 # input"
   ]
  },
  {
   "cell_type": "code",
   "execution_count": 7,
   "id": "d5a32472-8232-4820-8652-cae6faa4e098",
   "metadata": {},
   "outputs": [
    {
     "name": "stdout",
     "output_type": "stream",
     "text": [
      "10\n"
     ]
    }
   ],
   "source": [
    "ans = 1\n",
    "# TODO:直接计算组合数C(n,m)\n",
    "for i in range(n, n-m, -1):\n",
    "    ans *= i\n",
    "for i in range(1, m+1):\n",
    "    ans //= i\n",
    "print(ans)"
   ]
  },
  {
   "cell_type": "code",
   "execution_count": 8,
   "id": "54f073b5-530d-42c9-93bd-c0a39922dc71",
   "metadata": {},
   "outputs": [
    {
     "name": "stdout",
     "output_type": "stream",
     "text": [
      "10\n"
     ]
    }
   ],
   "source": [
    "c = [[0 for j in range(n + 1)] for i in range(n + 1)]\n",
    "for i in range(n + 1):\n",
    "# TODO:迭代推导组合数C(n,m)\n",
    "    for j in range(i + 1):\n",
    "        if j == 0 or j == i:\n",
    "            c[i][j] = 1\n",
    "        else:\n",
    "            c[i][j] = c[i - 1][j - 1] + c[i - 1][j]\n",
    "print(c[n][m])"
   ]
  }
 ],
 "metadata": {
  "kernelspec": {
   "display_name": "myenv",
   "language": "python",
   "name": "python3"
  },
  "language_info": {
   "codemirror_mode": {
    "name": "ipython",
    "version": 3
   },
   "file_extension": ".py",
   "mimetype": "text/x-python",
   "name": "python",
   "nbconvert_exporter": "python",
   "pygments_lexer": "ipython3",
   "version": "3.12.7"
  }
 },
 "nbformat": 4,
 "nbformat_minor": 5
}
