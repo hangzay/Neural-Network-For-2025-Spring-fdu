{
 "cells": [
  {
   "cell_type": "code",
   "execution_count": 2,
   "id": "dbec15bd",
   "metadata": {},
   "outputs": [],
   "source": [
    "import random\n",
    "import numpy as np\n",
    "import matplotlib.pyplot as plt\n",
    "import torch\n",
    "import torch.nn as nn\n",
    "import torchvision\n",
    "from tqdm import tqdm\n",
    "\n",
    "from utils_week9to11 import LeNet5, train, test"
   ]
  },
  {
   "cell_type": "code",
   "execution_count": 3,
   "id": "077d40fe",
   "metadata": {},
   "outputs": [],
   "source": [
    "batch_size = 128\n",
    "epochs = 10\n",
    "device = torch.device('cuda') if torch.cuda.is_available() else 'cpu'"
   ]
  },
  {
   "cell_type": "markdown",
   "id": "1e5be3e9",
   "metadata": {},
   "source": [
    "## Backdooring under Different Poisoning Ratios\n",
    "> 区别于上一周的可见后门，不可见后门由于在训练过程中会实时更新后门触发器\\\n",
    "> 我们将不再预处理生成后门数据集，而是在训练过程中实时构建后门样本\n",
    "\n",
    "- 不可见后门攻击的攻击框架与可见后门基本一致\n",
    "\n",
    "- 攻击者会干预模型的训练和测试两阶段\n",
    "\n",
    "- 在训练时投入一定比例的后门样本，在测试时将trigger添加在干净图片上发起攻击\n",
    "\n",
    "建议使用的API：\n",
    "- torch.ones_like(input, dtype, device)：生成一个元素值全为1、形如input的多维Tensor\n",
    "- torch.ones(size, dtype, device)：生成一个元素值全为1的多维Tensor\n",
    "- torch.norm(input, p)：计算input的L_p范数"
   ]
  },
  {
   "cell_type": "code",
   "execution_count": 4,
   "id": "9cf5c49b",
   "metadata": {},
   "outputs": [],
   "source": [
    "# 在干净训练数据集上实时生成后门样本并进行训练，同步更新模型参数和后门trigger\n",
    "def invisible_trigger_train(model, loader, criterion, optim_model, optim_trigger, trigger, target_label=3):\n",
    "    model.train()\n",
    "    train_loss, sample_num = 0., 0\n",
    "\n",
    "    for inputs, labels in tqdm(loader):\n",
    "        normal_inputs, normal_labels = inputs.to(device), labels.to(device)\n",
    "\n",
    "        # TODO：基于正常样本生成后门样本\n",
    "        backdoor_inputs = normal_inputs + trigger\n",
    "        # 生成与正常样本标签形状相同但值全部固定为目标标签的张量\n",
    "        backdoor_labels = torch.full_like(normal_labels, target_label)\n",
    "\n",
    "        optim_model.zero_grad()\n",
    "        optim_trigger.zero_grad()\n",
    "\n",
    "        # TODO：分别计算\n",
    "        # main_loss->模型在正常样本上的分类loss，\n",
    "        # backdoor_loss->模型在后门样本上的分类loss，\n",
    "        # reg_loss->正则化项（trigger的L2范数）\n",
    "        normal_outputs = model(normal_inputs)\n",
    "        main_loss = criterion(normal_outputs, normal_labels)\n",
    "\n",
    "        backdoor_outputs = model(backdoor_inputs)\n",
    "        backdoor_loss = criterion(backdoor_outputs, backdoor_labels)\n",
    "        \n",
    "        reg_loss = torch.norm(trigger, p=2)\n",
    "\n",
    "        loss = main_loss + 0.5 * backdoor_loss + 0.1 * reg_loss\n",
    "        loss.backward()\n",
    "        \n",
    "        optim_model.step()\n",
    "        optim_trigger.step()\n",
    "\n",
    "        sample_num += inputs.shape[0]\n",
    "        train_loss += loss.item() * inputs.shape[0]\n",
    "        # break\n",
    "\n",
    "    train_loss /= sample_num    \n",
    "    return train_loss"
   ]
  },
  {
   "cell_type": "markdown",
   "id": "93633b78",
   "metadata": {},
   "source": [
    "### 数据准备"
   ]
  },
  {
   "cell_type": "code",
   "execution_count": 5,
   "id": "31e12ff0",
   "metadata": {},
   "outputs": [
    {
     "name": "stdout",
     "output_type": "stream",
     "text": [
      "Clean train data is prepared.\n",
      "Clean test data is prepared.\n"
     ]
    }
   ],
   "source": [
    "train_data = torchvision.datasets.MNIST(root='data/', train=True, transform=torchvision.transforms.ToTensor(), download=True)\n",
    "train_loader = torch.utils.data.DataLoader(dataset=train_data, batch_size=batch_size, shuffle=True)\n",
    "print('Clean train data is prepared.')\n",
    "\n",
    "test_data = torchvision.datasets.MNIST(root='data/', train=False, transform=torchvision.transforms.ToTensor(), download=True)\n",
    "test_loader = torch.utils.data.DataLoader(dataset=test_data, batch_size=batch_size, shuffle=True)\n",
    "print('Clean test data is prepared.')"
   ]
  },
  {
   "cell_type": "markdown",
   "id": "1da705ac",
   "metadata": {},
   "source": [
    "### 测试准备"
   ]
  },
  {
   "cell_type": "code",
   "execution_count": 6,
   "id": "0c9a5a63",
   "metadata": {},
   "outputs": [],
   "source": [
    "# 在后门测试集上测试攻击成功率ASR\n",
    "def test_backdoor(model, loader, trigger, device=None, target_label=3):\n",
    "    device = next(model.parameters()).device if device is None else device\n",
    "    model.eval()\n",
    "    total_num = 0.\n",
    "    correct_num = 0.\n",
    "    with torch.no_grad():\n",
    "        for inputs, labels in tqdm(loader):\n",
    "            inputs, labels = inputs.to(device), labels.to(device)\n",
    "            \n",
    "            # TODO：基于正常样本生成后门样本\n",
    "            backdoor_inputs = inputs + trigger\n",
    "            backdoor_labels = torch.full_like(labels, target_label)\n",
    "            \n",
    "            outputs = model(backdoor_inputs)\n",
    "            _, predicted = torch.max(outputs.data, dim=1)\n",
    "            total_num += inputs.shape[0]\n",
    "            correct_num += predicted.eq(backdoor_labels).sum().item()\n",
    "    acc = correct_num / total_num * 100.\n",
    "    return acc"
   ]
  },
  {
   "cell_type": "markdown",
   "id": "75ddbe35",
   "metadata": {},
   "source": [
    "### 模型训练及测试\n",
    "\n",
    "**助教验收**：\n",
    "- 3种trigger_lr设置下，最佳效果的test_acc > 95.0%、test_asr > 99.0%"
   ]
  },
  {
   "cell_type": "code",
   "execution_count": 7,
   "id": "0257ac32",
   "metadata": {
    "scrolled": true
   },
   "outputs": [
    {
     "name": "stdout",
     "output_type": "stream",
     "text": [
      "##### Experiment on lr=0.005 #####\n"
     ]
    },
    {
     "name": "stderr",
     "output_type": "stream",
     "text": [
      "100%|██████████| 469/469 [00:09<00:00, 49.47it/s]\n",
      "100%|██████████| 79/79 [00:00<00:00, 79.14it/s]\n"
     ]
    },
    {
     "name": "stdout",
     "output_type": "stream",
     "text": [
      "Epoch 0: train_loss 0.7894, test_acc 97.76%, test_asr 100.00%, \n"
     ]
    },
    {
     "name": "stderr",
     "output_type": "stream",
     "text": [
      "100%|██████████| 469/469 [00:09<00:00, 51.49it/s]\n",
      "100%|██████████| 79/79 [00:01<00:00, 77.69it/s]\n"
     ]
    },
    {
     "name": "stdout",
     "output_type": "stream",
     "text": [
      "Epoch 1: train_loss 0.1155, test_acc 97.82%, test_asr 99.99%, \n"
     ]
    },
    {
     "name": "stderr",
     "output_type": "stream",
     "text": [
      "100%|██████████| 469/469 [00:09<00:00, 51.11it/s]\n",
      "100%|██████████| 79/79 [00:01<00:00, 77.21it/s]\n"
     ]
    },
    {
     "name": "stdout",
     "output_type": "stream",
     "text": [
      "Epoch 2: train_loss 0.0934, test_acc 97.78%, test_asr 99.91%, \n"
     ]
    },
    {
     "name": "stderr",
     "output_type": "stream",
     "text": [
      "100%|██████████| 469/469 [00:08<00:00, 52.41it/s]\n",
      "100%|██████████| 79/79 [00:00<00:00, 79.98it/s]\n"
     ]
    },
    {
     "name": "stdout",
     "output_type": "stream",
     "text": [
      "Epoch 3: train_loss 0.0884, test_acc 97.67%, test_asr 100.00%, \n"
     ]
    },
    {
     "name": "stderr",
     "output_type": "stream",
     "text": [
      "100%|██████████| 469/469 [00:08<00:00, 52.48it/s]\n",
      "100%|██████████| 79/79 [00:00<00:00, 84.56it/s]\n"
     ]
    },
    {
     "name": "stdout",
     "output_type": "stream",
     "text": [
      "Epoch 4: train_loss 0.0907, test_acc 98.34%, test_asr 100.00%, \n"
     ]
    },
    {
     "name": "stderr",
     "output_type": "stream",
     "text": [
      "100%|██████████| 469/469 [00:08<00:00, 54.56it/s]\n",
      "100%|██████████| 79/79 [00:00<00:00, 85.11it/s]\n"
     ]
    },
    {
     "name": "stdout",
     "output_type": "stream",
     "text": [
      "Epoch 5: train_loss 0.0775, test_acc 98.32%, test_asr 99.99%, \n"
     ]
    },
    {
     "name": "stderr",
     "output_type": "stream",
     "text": [
      "100%|██████████| 469/469 [00:08<00:00, 53.39it/s]\n",
      "100%|██████████| 79/79 [00:00<00:00, 80.58it/s]\n"
     ]
    },
    {
     "name": "stdout",
     "output_type": "stream",
     "text": [
      "Epoch 6: train_loss 0.1189, test_acc 98.02%, test_asr 100.00%, \n"
     ]
    },
    {
     "name": "stderr",
     "output_type": "stream",
     "text": [
      "100%|██████████| 469/469 [00:09<00:00, 51.59it/s]\n",
      "100%|██████████| 79/79 [00:00<00:00, 80.49it/s]\n"
     ]
    },
    {
     "name": "stdout",
     "output_type": "stream",
     "text": [
      "Epoch 7: train_loss 0.0757, test_acc 98.04%, test_asr 100.00%, \n"
     ]
    },
    {
     "name": "stderr",
     "output_type": "stream",
     "text": [
      "100%|██████████| 469/469 [00:08<00:00, 52.38it/s]\n",
      "100%|██████████| 79/79 [00:00<00:00, 79.05it/s]\n"
     ]
    },
    {
     "name": "stdout",
     "output_type": "stream",
     "text": [
      "Epoch 8: train_loss 0.0765, test_acc 98.05%, test_asr 100.00%, \n"
     ]
    },
    {
     "name": "stderr",
     "output_type": "stream",
     "text": [
      "100%|██████████| 469/469 [00:08<00:00, 56.97it/s]\n",
      "100%|██████████| 79/79 [00:00<00:00, 84.49it/s]\n"
     ]
    },
    {
     "name": "stdout",
     "output_type": "stream",
     "text": [
      "Epoch 9: train_loss 0.0731, test_acc 98.12%, test_asr 99.99%, \n",
      "##### Experiment on lr=0.010 #####\n"
     ]
    },
    {
     "name": "stderr",
     "output_type": "stream",
     "text": [
      "100%|██████████| 469/469 [00:08<00:00, 57.16it/s]\n",
      "100%|██████████| 79/79 [00:01<00:00, 76.70it/s]\n"
     ]
    },
    {
     "name": "stdout",
     "output_type": "stream",
     "text": [
      "Epoch 0: train_loss 0.6415, test_acc 97.07%, test_asr 100.00%, \n"
     ]
    },
    {
     "name": "stderr",
     "output_type": "stream",
     "text": [
      "100%|██████████| 469/469 [00:08<00:00, 55.42it/s]\n",
      "100%|██████████| 79/79 [00:00<00:00, 83.66it/s]\n"
     ]
    },
    {
     "name": "stdout",
     "output_type": "stream",
     "text": [
      "Epoch 1: train_loss 0.1248, test_acc 97.73%, test_asr 99.46%, \n"
     ]
    },
    {
     "name": "stderr",
     "output_type": "stream",
     "text": [
      "100%|██████████| 469/469 [00:08<00:00, 53.76it/s]\n",
      "100%|██████████| 79/79 [00:01<00:00, 78.54it/s]\n"
     ]
    },
    {
     "name": "stdout",
     "output_type": "stream",
     "text": [
      "Epoch 2: train_loss 0.1205, test_acc 97.92%, test_asr 100.00%, \n"
     ]
    },
    {
     "name": "stderr",
     "output_type": "stream",
     "text": [
      "100%|██████████| 469/469 [00:08<00:00, 53.99it/s]\n",
      "100%|██████████| 79/79 [00:01<00:00, 78.62it/s]\n"
     ]
    },
    {
     "name": "stdout",
     "output_type": "stream",
     "text": [
      "Epoch 3: train_loss 0.1344, test_acc 97.92%, test_asr 99.98%, \n"
     ]
    },
    {
     "name": "stderr",
     "output_type": "stream",
     "text": [
      "100%|██████████| 469/469 [00:08<00:00, 53.16it/s]\n",
      "100%|██████████| 79/79 [00:00<00:00, 82.08it/s]\n"
     ]
    },
    {
     "name": "stdout",
     "output_type": "stream",
     "text": [
      "Epoch 4: train_loss 0.0934, test_acc 98.26%, test_asr 99.59%, \n"
     ]
    },
    {
     "name": "stderr",
     "output_type": "stream",
     "text": [
      "100%|██████████| 469/469 [00:08<00:00, 55.25it/s]\n",
      "100%|██████████| 79/79 [00:00<00:00, 80.94it/s]\n"
     ]
    },
    {
     "name": "stdout",
     "output_type": "stream",
     "text": [
      "Epoch 5: train_loss 0.1042, test_acc 97.68%, test_asr 100.00%, \n"
     ]
    },
    {
     "name": "stderr",
     "output_type": "stream",
     "text": [
      "100%|██████████| 469/469 [00:08<00:00, 55.88it/s]\n",
      "100%|██████████| 79/79 [00:00<00:00, 81.98it/s]\n"
     ]
    },
    {
     "name": "stdout",
     "output_type": "stream",
     "text": [
      "Epoch 6: train_loss 0.1237, test_acc 97.84%, test_asr 99.99%, \n"
     ]
    },
    {
     "name": "stderr",
     "output_type": "stream",
     "text": [
      "100%|██████████| 469/469 [00:08<00:00, 55.90it/s]\n",
      "100%|██████████| 79/79 [00:00<00:00, 81.52it/s]\n"
     ]
    },
    {
     "name": "stdout",
     "output_type": "stream",
     "text": [
      "Epoch 7: train_loss 0.1193, test_acc 98.07%, test_asr 100.00%, \n"
     ]
    },
    {
     "name": "stderr",
     "output_type": "stream",
     "text": [
      "100%|██████████| 469/469 [00:08<00:00, 56.06it/s]\n",
      "100%|██████████| 79/79 [00:00<00:00, 81.78it/s]\n"
     ]
    },
    {
     "name": "stdout",
     "output_type": "stream",
     "text": [
      "Epoch 8: train_loss 0.1057, test_acc 97.88%, test_asr 99.99%, \n"
     ]
    },
    {
     "name": "stderr",
     "output_type": "stream",
     "text": [
      "100%|██████████| 469/469 [00:08<00:00, 55.26it/s]\n",
      "100%|██████████| 79/79 [00:00<00:00, 81.64it/s]\n"
     ]
    },
    {
     "name": "stdout",
     "output_type": "stream",
     "text": [
      "Epoch 9: train_loss 0.1111, test_acc 98.15%, test_asr 100.00%, \n",
      "##### Experiment on lr=0.050 #####\n"
     ]
    },
    {
     "name": "stderr",
     "output_type": "stream",
     "text": [
      "100%|██████████| 469/469 [00:08<00:00, 56.10it/s]\n",
      "100%|██████████| 79/79 [00:00<00:00, 82.74it/s]\n"
     ]
    },
    {
     "name": "stdout",
     "output_type": "stream",
     "text": [
      "Epoch 0: train_loss 1.3650, test_acc 95.01%, test_asr 100.00%, \n"
     ]
    },
    {
     "name": "stderr",
     "output_type": "stream",
     "text": [
      "100%|██████████| 469/469 [00:08<00:00, 57.18it/s]\n",
      "100%|██████████| 79/79 [00:00<00:00, 81.88it/s]\n"
     ]
    },
    {
     "name": "stdout",
     "output_type": "stream",
     "text": [
      "Epoch 1: train_loss 0.2463, test_acc 97.08%, test_asr 100.00%, \n"
     ]
    },
    {
     "name": "stderr",
     "output_type": "stream",
     "text": [
      "100%|██████████| 469/469 [00:08<00:00, 57.69it/s]\n",
      "100%|██████████| 79/79 [00:00<00:00, 82.65it/s]\n"
     ]
    },
    {
     "name": "stdout",
     "output_type": "stream",
     "text": [
      "Epoch 2: train_loss 0.2305, test_acc 97.60%, test_asr 99.96%, \n"
     ]
    },
    {
     "name": "stderr",
     "output_type": "stream",
     "text": [
      "100%|██████████| 469/469 [00:08<00:00, 57.04it/s]\n",
      "100%|██████████| 79/79 [00:00<00:00, 82.33it/s]\n"
     ]
    },
    {
     "name": "stdout",
     "output_type": "stream",
     "text": [
      "Epoch 3: train_loss 0.4212, test_acc 97.62%, test_asr 100.00%, \n"
     ]
    },
    {
     "name": "stderr",
     "output_type": "stream",
     "text": [
      "100%|██████████| 469/469 [00:08<00:00, 54.81it/s]\n",
      "100%|██████████| 79/79 [00:00<00:00, 80.19it/s]\n"
     ]
    },
    {
     "name": "stdout",
     "output_type": "stream",
     "text": [
      "Epoch 4: train_loss 0.1676, test_acc 96.87%, test_asr 100.00%, \n"
     ]
    },
    {
     "name": "stderr",
     "output_type": "stream",
     "text": [
      "100%|██████████| 469/469 [00:08<00:00, 54.63it/s]\n",
      "100%|██████████| 79/79 [00:00<00:00, 84.83it/s]\n"
     ]
    },
    {
     "name": "stdout",
     "output_type": "stream",
     "text": [
      "Epoch 5: train_loss 0.2197, test_acc 97.34%, test_asr 100.00%, \n"
     ]
    },
    {
     "name": "stderr",
     "output_type": "stream",
     "text": [
      "100%|██████████| 469/469 [00:08<00:00, 54.46it/s]\n",
      "100%|██████████| 79/79 [00:00<00:00, 82.72it/s]\n"
     ]
    },
    {
     "name": "stdout",
     "output_type": "stream",
     "text": [
      "Epoch 6: train_loss 0.3764, test_acc 97.24%, test_asr 100.00%, \n"
     ]
    },
    {
     "name": "stderr",
     "output_type": "stream",
     "text": [
      "100%|██████████| 469/469 [00:08<00:00, 56.42it/s]\n",
      "100%|██████████| 79/79 [00:00<00:00, 83.27it/s]\n"
     ]
    },
    {
     "name": "stdout",
     "output_type": "stream",
     "text": [
      "Epoch 7: train_loss 0.2248, test_acc 97.67%, test_asr 100.00%, \n"
     ]
    },
    {
     "name": "stderr",
     "output_type": "stream",
     "text": [
      "100%|██████████| 469/469 [00:08<00:00, 56.30it/s]\n",
      "100%|██████████| 79/79 [00:00<00:00, 82.21it/s]\n"
     ]
    },
    {
     "name": "stdout",
     "output_type": "stream",
     "text": [
      "Epoch 8: train_loss 0.2397, test_acc 97.93%, test_asr 99.98%, \n"
     ]
    },
    {
     "name": "stderr",
     "output_type": "stream",
     "text": [
      "100%|██████████| 469/469 [00:08<00:00, 56.15it/s]\n",
      "100%|██████████| 79/79 [00:00<00:00, 83.67it/s]"
     ]
    },
    {
     "name": "stdout",
     "output_type": "stream",
     "text": [
      "Epoch 9: train_loss 0.2033, test_acc 97.73%, test_asr 100.00%, \n"
     ]
    },
    {
     "name": "stderr",
     "output_type": "stream",
     "text": [
      "\n"
     ]
    }
   ],
   "source": [
    "# 在不同学习率下优化trigger并植入模型，再测试模型在干净测试集的正常性能\n",
    "model_lr = 0.01\n",
    "trained_models = []\n",
    "invisible_triggers = []\n",
    "\n",
    "for trigger_lr in [ 0.005, 0.01, 0.05]:\n",
    "    print('##### Experiment on lr=%.3f #####' % trigger_lr)\n",
    "    \n",
    "    model = LeNet5()\n",
    "    model = model.to(device)\n",
    "    criterion = nn.CrossEntropyLoss()\n",
    "    \n",
    "    # 生成不可见trigger（即全局扰动）\n",
    "    trigger = torch.rand(28, 28).to(device)\n",
    "    trigger.requires_grad = True\n",
    "\n",
    "    # TODO：为模型和trigger分别设置优化器optim_model和optim_trigger\n",
    "    optim_model = torch.optim.Adam(model.parameters(), lr=model_lr)\n",
    "    # 较高的 trigger_lr 会加速触发器的优化，但可能破坏隐蔽性；较低的 trigger_lr 则更稳定但收敛慢\n",
    "    optim_trigger = torch.optim.Adam([trigger], lr=trigger_lr)\n",
    "\n",
    "    for epoch in range(epochs):\n",
    "        # 生成后门并植入\n",
    "        train_loss = invisible_trigger_train(model, train_loader, criterion, optim_model, optim_trigger, trigger)\n",
    "        # 测试模型正常性能\n",
    "        test_acc = test(model, test_loader)\n",
    "        # 测试模型在后门样本上的攻击准确率\n",
    "        test_asr = test_backdoor(model, test_loader, trigger)\n",
    "        print('Epoch %d: train_loss %.4f, test_acc %.2f%%, test_asr %.2f%%, ' % (epoch, train_loss, test_acc, test_asr))\n",
    "    trained_models.append(model)\n",
    "    invisible_triggers.append((trigger_lr, trigger))"
   ]
  },
  {
   "cell_type": "markdown",
   "id": "0ea8e72f",
   "metadata": {},
   "source": [
    "## Demo Backdoor Visualization\n",
    "- 可视化trigger"
   ]
  },
  {
   "cell_type": "code",
   "execution_count": 8,
   "id": "9acd1093",
   "metadata": {},
   "outputs": [
    {
     "data": {
      "image/png": "[encoded data removed]",
      "text/plain": [
       "<Figure size 1000x300 with 3 Axes>"
      ]
     },
     "metadata": {},
     "output_type": "display_data"
    }
   ],
   "source": [
    "# 如果jupyter内核崩溃加下面两行\n",
    "import os\n",
    "os.environ['KMP_DUPLICATE_LIB_OK']='True'\n",
    "fig = plt.figure(figsize=(10, 3))\n",
    "for idx, triggers in enumerate(invisible_triggers):\n",
    "    ax = fig.add_subplot(1, 3, idx+1)\n",
    "    \n",
    "    trigger_lr, trigger = triggers\n",
    "    ax.set_title(trigger_lr)\n",
    "    plt.imshow(trigger.cpu().detach().numpy())"
   ]
  },
  {
   "cell_type": "markdown",
   "id": "53a761dd",
   "metadata": {},
   "source": [
    "- 可视化投毒样本"
   ]
  },
  {
   "cell_type": "code",
   "execution_count": 9,
   "id": "667311db",
   "metadata": {},
   "outputs": [
    {
     "name": "stderr",
     "output_type": "stream",
     "text": [
      "C:\\Users\\w2213\\AppData\\Local\\Temp\\ipykernel_31136\\2046036617.py:6: DeprecationWarning: __array_wrap__ must accept context and return_scalar arguments (positionally) in the future. (Deprecated NumPy 2.0)\n",
      "  x = test_data[i][0] + trigger.cpu().detach().numpy()\n"
     ]
    },
    {
     "data": {
      "image/png": "[encoded data removed]",
      "text/plain": [
       "<Figure size 2000x1000 with 30 Axes>"
      ]
     },
     "metadata": {},
     "output_type": "display_data"
    }
   ],
   "source": [
    "fig = plt.figure(figsize=(20, 10))\n",
    "for idx, triggers in enumerate(invisible_triggers):\n",
    "    trigger_lr, trigger = triggers\n",
    "    for i in range(10):\n",
    "        ax = fig.add_subplot(3, 10, (idx)*10+i+1)\n",
    "        x = test_data[i][0] + trigger.cpu().detach().numpy()\n",
    "        y = test_data[i][1]\n",
    "        ax.set_title(str(y))\n",
    "        plt.imshow(x[0])  # 可视化x唯一色彩通道的像素值\n",
    "    "
   ]
  },
  {
   "cell_type": "code",
   "execution_count": null,
   "id": "f125fd33-16ba-495c-b7f4-ee19a278d090",
   "metadata": {},
   "outputs": [],
   "source": []
  },
  {
   "cell_type": "code",
   "execution_count": null,
   "id": "440a2103-92a6-49a5-b109-568d897e06dd",
   "metadata": {},
   "outputs": [],
   "source": []
  },
  {
   "cell_type": "code",
   "execution_count": null,
   "id": "c46c60d3-26b3-4a9e-a8ed-96e0755265d4",
   "metadata": {},
   "outputs": [],
   "source": []
  }
 ],
 "metadata": {
  "kernelspec": {
   "display_name": "myenv",
   "language": "python",
   "name": "python3"
  },
  "language_info": {
   "codemirror_mode": {
    "name": "ipython",
    "version": 3
   },
   "file_extension": ".py",
   "mimetype": "text/x-python",
   "name": "python",
   "nbconvert_exporter": "python",
   "pygments_lexer": "ipython3",
   "version": "3.12.7"
  }
 },
 "nbformat": 4,
 "nbformat_minor": 5
}
