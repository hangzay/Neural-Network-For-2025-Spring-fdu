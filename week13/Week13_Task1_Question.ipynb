{
 "cells": [
  {
   "cell_type": "code",
   "execution_count": 19,
   "id": "d66f64c8-33fe-4f4b-860c-04732ba4f218",
   "metadata": {
    "tags": []
   },
   "outputs": [],
   "source": [
    "import os\n",
    "import torch\n",
    "import torch.nn.functional\n",
    "import torchvision\n",
    "import torchvision.transforms as transforms\n",
    "import numpy as np\n",
    "import cv2\n",
    "import matplotlib.pyplot as plt\n",
    "from tqdm import tqdm\n",
    "\n",
    "from utils_week13 import LeNet5"
   ]
  },
  {
   "cell_type": "code",
   "execution_count": 20,
   "id": "26006264",
   "metadata": {},
   "outputs": [],
   "source": [
    "epoches = 4000\n",
    "learning_rate = 1e-2\n",
    "batch_size = 128\n",
    "LAMBDA = 1e-3\n",
    "device = device = torch.device(\"cuda\" if torch.cuda.is_available() else \"cpu\")"
   ]
  },
  {
   "cell_type": "markdown",
   "id": "3fdc8c96",
   "metadata": {},
   "source": [
    "## 样本重建攻击\n",
    "- 请大家按照ppt介绍的基于输出重建图像的方法，实现sim_loss与TV_loss，完成样本重建攻击\n",
    "- 为保证实验效果，请大家不要更换optimizer、learning_rate以及epoches\n",
    "  \n",
    "\n",
    "- 实验技巧：（有助于借助错位简化TV_loss的计算）\n",
    "    - 使用【:】操作符，控制数组的取值范围，以一维数组a = Tensor([1, 2, 3, 4])为例\n",
    "        - a[:]，即保留a第一维从起始下标到终止下标的所有元素\n",
    "            - a[:] = Tensor([1, 2, 3, 4])\n",
    "        - a[start:]，即保留a第一维从下标start到终止下标的所有元素\n",
    "            -a[1:] = Tensor([2, 3, 4])\n",
    "        - a[:end]，即保留a第一维从起始下标到下标end的所有元素（不包含下标end）\n",
    "            -a[:2] = Tensor([1, 2])\n",
    "        - a[start:end]，即保留a第一维从下标start到到下标end的所有元素（不包含下标end）\n",
    "            -a[1:3] = Tensor([2, 3])\n",
    "- 实验可能使用到的一些函数：\n",
    "    - torch.sum(input, dim)：计算input所有元素的和\n",
    "    - torch.pow(input, d)：对input中每个元素计算其d次方的计算结果"
   ]
  },
  {
   "cell_type": "code",
   "execution_count": 21,
   "id": "0f6342f8",
   "metadata": {},
   "outputs": [
    {
     "name": "stderr",
     "output_type": "stream",
     "text": [
      "C:\\Users\\w2213\\AppData\\Local\\Temp\\ipykernel_32076\\1056856229.py:2: FutureWarning: You are using `torch.load` with `weights_only=False` (the current default value), which uses the default pickle module implicitly. It is possible to construct malicious pickle data which will execute arbitrary code during unpickling (See https://github.com/pytorch/pytorch/blob/main/SECURITY.md#untrusted-models for more details). In a future release, the default value for `weights_only` will be flipped to `True`. This limits the functions that could be executed during unpickling. Arbitrary objects will no longer be allowed to be loaded via this mode unless they are explicitly allowlisted by the user via `torch.serialization.add_safe_globals`. We recommend you start setting `weights_only=True` for any use case where you don't have full control of the loaded file. Please open an issue on GitHub for any issues related to this experimental feature.\n",
      "  model.load_state_dict(torch.load('./model/lenet5.pt'))\n"
     ]
    }
   ],
   "source": [
    "model = LeNet5()\n",
    "model.load_state_dict(torch.load('./model/lenet5.pt'))\n",
    "model = model.to(device)\n",
    "\n",
    "save_file = 'lenet5_reconstruction'\n",
    "if not os.path.exists(save_file):\n",
    "    os.makedirs(save_file)\n",
    "    \n",
    "def tensor_size(x):\n",
    "    return x.shape[-1] * x.shape[-2]"
   ]
  },
  {
   "cell_type": "code",
   "execution_count": 22,
   "id": "d641088a",
   "metadata": {
    "tags": []
   },
   "outputs": [
    {
     "name": "stdout",
     "output_type": "stream",
     "text": [
      "Reconstruction for class 0\n",
      "Begin Diff = 0.20675304532051086\n"
     ]
    },
    {
     "name": "stderr",
     "output_type": "stream",
     "text": [
      "loss = 0.000089: 100%|██████████| 4000/4000 [00:15<00:00, 253.17it/s]\n"
     ]
    },
    {
     "name": "stdout",
     "output_type": "stream",
     "text": [
      "Final Diff = 25.515531539916992\n",
      "Target y = 0, prediction = 0\n",
      "Saved reconstructed image in lenet5_reconstruction/y=0_avg.png\n",
      "\n",
      "Reconstruction for class 1\n",
      "Begin Diff = 0.11365050077438354\n"
     ]
    },
    {
     "name": "stderr",
     "output_type": "stream",
     "text": [
      "loss = 0.000096: 100%|██████████| 4000/4000 [00:15<00:00, 257.13it/s]\n"
     ]
    },
    {
     "name": "stdout",
     "output_type": "stream",
     "text": [
      "Final Diff = 23.375215530395508\n",
      "Target y = 1, prediction = 1\n",
      "Saved reconstructed image in lenet5_reconstruction/y=1_avg.png\n",
      "\n",
      "Reconstruction for class 2\n",
      "Begin Diff = 0.16297473013401031\n"
     ]
    },
    {
     "name": "stderr",
     "output_type": "stream",
     "text": [
      "loss = 0.000070: 100%|██████████| 4000/4000 [00:15<00:00, 262.29it/s]\n"
     ]
    },
    {
     "name": "stdout",
     "output_type": "stream",
     "text": [
      "Final Diff = 19.90746307373047\n",
      "Target y = 2, prediction = 2\n",
      "Saved reconstructed image in lenet5_reconstruction/y=2_avg.png\n",
      "\n",
      "Reconstruction for class 3\n",
      "Begin Diff = 0.09583093971014023\n"
     ]
    },
    {
     "name": "stderr",
     "output_type": "stream",
     "text": [
      "loss = 0.000071: 100%|██████████| 4000/4000 [00:16<00:00, 245.56it/s]\n"
     ]
    },
    {
     "name": "stdout",
     "output_type": "stream",
     "text": [
      "Final Diff = 33.68626022338867\n",
      "Target y = 3, prediction = 3\n",
      "Saved reconstructed image in lenet5_reconstruction/y=3_avg.png\n",
      "\n",
      "Reconstruction for class 4\n",
      "Begin Diff = 0.21246337890625\n"
     ]
    },
    {
     "name": "stderr",
     "output_type": "stream",
     "text": [
      "loss = 0.000061: 100%|██████████| 4000/4000 [00:28<00:00, 138.42it/s]\n"
     ]
    },
    {
     "name": "stdout",
     "output_type": "stream",
     "text": [
      "Final Diff = 18.589094161987305\n",
      "Target y = 4, prediction = 4\n",
      "Saved reconstructed image in lenet5_reconstruction/y=4_avg.png\n",
      "\n",
      "Reconstruction for class 5\n",
      "Begin Diff = 0.09798093140125275\n"
     ]
    },
    {
     "name": "stderr",
     "output_type": "stream",
     "text": [
      "loss = 0.000075: 100%|██████████| 4000/4000 [00:15<00:00, 251.74it/s]\n"
     ]
    },
    {
     "name": "stdout",
     "output_type": "stream",
     "text": [
      "Final Diff = 23.3707275390625\n",
      "Target y = 5, prediction = 5\n",
      "Saved reconstructed image in lenet5_reconstruction/y=5_avg.png\n",
      "\n",
      "Reconstruction for class 6\n",
      "Begin Diff = 0.19565263390541077\n"
     ]
    },
    {
     "name": "stderr",
     "output_type": "stream",
     "text": [
      "loss = 0.000060: 100%|██████████| 4000/4000 [00:15<00:00, 254.57it/s]\n"
     ]
    },
    {
     "name": "stdout",
     "output_type": "stream",
     "text": [
      "Final Diff = 26.4639949798584\n",
      "Target y = 6, prediction = 6\n",
      "Saved reconstructed image in lenet5_reconstruction/y=6_avg.png\n",
      "\n",
      "Reconstruction for class 7\n",
      "Begin Diff = 0.12646323442459106\n"
     ]
    },
    {
     "name": "stderr",
     "output_type": "stream",
     "text": [
      "loss = 0.000054: 100%|██████████| 4000/4000 [00:15<00:00, 253.16it/s]\n"
     ]
    },
    {
     "name": "stdout",
     "output_type": "stream",
     "text": [
      "Final Diff = 30.816049575805664\n",
      "Target y = 7, prediction = 7\n",
      "Saved reconstructed image in lenet5_reconstruction/y=7_avg.png\n",
      "\n",
      "Reconstruction for class 8\n",
      "Begin Diff = 0.14573296904563904\n"
     ]
    },
    {
     "name": "stderr",
     "output_type": "stream",
     "text": [
      "loss = 0.000066: 100%|██████████| 4000/4000 [00:16<00:00, 248.67it/s]\n"
     ]
    },
    {
     "name": "stdout",
     "output_type": "stream",
     "text": [
      "Final Diff = 16.203065872192383\n",
      "Target y = 8, prediction = 8\n",
      "Saved reconstructed image in lenet5_reconstruction/y=8_avg.png\n",
      "\n",
      "Reconstruction for class 9\n",
      "Begin Diff = 0.1318030059337616\n"
     ]
    },
    {
     "name": "stderr",
     "output_type": "stream",
     "text": [
      "loss = 0.000087: 100%|██████████| 4000/4000 [00:15<00:00, 255.38it/s]"
     ]
    },
    {
     "name": "stdout",
     "output_type": "stream",
     "text": [
      "Final Diff = 33.22639083862305\n",
      "Target y = 9, prediction = 9\n",
      "Saved reconstructed image in lenet5_reconstruction/y=9_avg.png\n",
      "\n"
     ]
    },
    {
     "name": "stderr",
     "output_type": "stream",
     "text": [
      "\n"
     ]
    }
   ],
   "source": [
    "correct = 0\n",
    "for target_y in range(10):\n",
    "    print(f\"Reconstruction for class {target_y}\")\n",
    "    target_y = torch.tensor(target_y, device=device)\n",
    "    target_output = torch.nn.functional.one_hot(target_y, num_classes=10).float().unsqueeze(0)\n",
    "\n",
    "    # 初始化图像: [batch, channel, h, w]\n",
    "    x = torch.zeros(1, 1, 28, 28, device=device)\n",
    "    x.requires_grad = True\n",
    "    \n",
    "    # NOTE: 可基于重建效果为sim_loss选择不同criterion\n",
    "    criterion = torch.nn.MSELoss(reduction='mean')\n",
    "    # criterion = torch.nn.L1Loss()\n",
    "    # criterion = torch.nn.CrossEntropyLoss()\n",
    "\n",
    "    optimizer = torch.optim.Adam([x], lr=learning_rate)\n",
    "    with torch.no_grad():\n",
    "        prediction = model(x)\n",
    "        original_diff = criterion(prediction, target_output)\n",
    "        print(f\"Begin Diff = {original_diff}\")\n",
    "    \n",
    "    pbar = tqdm(range(1, epoches + 1))\n",
    "    for epoch in pbar:\n",
    "        # TODO：模型预测，计算基于输出相似度的sim_loss和TV_loss\n",
    "        \n",
    "        prediction = model(x)\n",
    "        # sim_loss =  criterion(prediction, target_output)\n",
    "        sim_loss = -torch.log_softmax(prediction, dim=1)[0, target_y]\n",
    "\n",
    "        h = x.shape[2]\n",
    "        w = x.shape[3]\n",
    "        M = h * w\n",
    "        h_diff = x[:, :, :, 1:] - x[:, :, :, :-1]\n",
    "        v_diff = x[:, :, 1:, :] - x[:, :, :-1, :]\n",
    "        TV_loss = (torch.sum(torch.pow(h_diff,2)) + torch.sum(torch.pow(v_diff,2))) / M\n",
    "\n",
    "        loss = sim_loss + LAMBDA * TV_loss\n",
    "        #TODO：反传梯度，更新模型\n",
    "        optimizer.zero_grad()\n",
    "        loss.backward()\n",
    "        # torch.nn.utils.clip_grad_norm_([x], max_norm=1.0)\n",
    "        optimizer.step()\n",
    "\n",
    "        pbar.set_description(f\"loss = {loss.detach():.6f}\")\n",
    "\n",
    "    # 验证重建后的图像标签\n",
    "    with torch.no_grad():\n",
    "        prediction = model(x)\n",
    "        final_diff = criterion(prediction, target_output)\n",
    "        print(f\"Final Diff = {final_diff}\")\n",
    "    print(f\"Target y = {target_y}, prediction = {torch.argmax(prediction, dim=1).item()}\")\n",
    "    if target_y == torch.argmax(prediction, dim=1).item(): correct += 1\n",
    "    \n",
    "    x_np = x.detach().cpu().numpy()\n",
    "    \n",
    "    img = x_np[0][0]\n",
    "    img = cv2.resize(img, dsize=(200, 200), interpolation=cv2.INTER_NEAREST)\n",
    "    img_mx, img_mn = np.max(img), np.min(img)\n",
    "    img = (img - img_mn) / (img_mx - img_mn)\n",
    "    img = np.uint8(img * 255)\n",
    "    \n",
    "    save_path = f\"{save_file}/y={target_y}_avg.png\"\n",
    "    cv2.imwrite(save_path, img)\n",
    "    print(f\"Saved reconstructed image in {save_path}\\n\")"
   ]
  },
  {
   "cell_type": "markdown",
   "id": "9ab0fc73",
   "metadata": {},
   "source": [
    "- 统计预测成功率"
   ]
  },
  {
   "cell_type": "code",
   "execution_count": 23,
   "id": "267f9b8c",
   "metadata": {},
   "outputs": [
    {
     "name": "stdout",
     "output_type": "stream",
     "text": [
      "Acc = 100.00%\n"
     ]
    }
   ],
   "source": [
    "succ_ratio = float(correct/10)*100\n",
    "print(f\"Acc = {succ_ratio:.2f}%\")"
   ]
  },
  {
   "cell_type": "markdown",
   "id": "81ce6c48",
   "metadata": {},
   "source": [
    "- 可视化图像"
   ]
  },
  {
   "cell_type": "code",
   "execution_count": 24,
   "id": "a094f5d4",
   "metadata": {},
   "outputs": [
    {
     "data": {
      "image/png": "[encoded data removed]",
      "text/plain": [
       "<Figure size 600x400 with 10 Axes>"
      ]
     },
     "metadata": {},
     "output_type": "display_data"
    }
   ],
   "source": [
    "# 如果jupyter内核崩溃加下面两行\n",
    "# import os\n",
    "# os.environ['KMP_DUPLICATE_LIB_OK']='True'\n",
    "fig = plt.figure(figsize=(6, 4))\n",
    "\n",
    "files = os.listdir(save_file)\n",
    "for file in files:\n",
    "    y = file.split('=')[-1].split('_')[0]\n",
    "    img = cv2.imread(f\"{save_file}/{file}\")\n",
    "    \n",
    "    ax = fig.add_subplot(2, 5, int(y)+1)\n",
    "    \n",
    "    ax.set_title(y)\n",
    "    ax.set_axis_off()\n",
    "    plt.imshow(img)\n",
    "    plt.tight_layout()"
   ]
  }
 ],
 "metadata": {
  "kernelspec": {
   "display_name": "myenv",
   "language": "python",
   "name": "python3"
  },
  "language_info": {
   "codemirror_mode": {
    "name": "ipython",
    "version": 3
   },
   "file_extension": ".py",
   "mimetype": "text/x-python",
   "name": "python",
   "nbconvert_exporter": "python",
   "pygments_lexer": "ipython3",
   "version": "3.12.7"
  }
 },
 "nbformat": 4,
 "nbformat_minor": 5
}
