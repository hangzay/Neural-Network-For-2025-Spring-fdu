{
 "cells": [
  {
   "cell_type": "markdown",
   "id": "0ae0986c",
   "metadata": {},
   "source": [
    "# 导入numpy计算库"
   ]
  },
  {
   "cell_type": "code",
   "execution_count": null,
   "id": "78a40bc0-aa90-41a9-9c16-4acfeba8c163",
   "metadata": {},
   "outputs": [],
   "source": [
    "import numpy as np"
   ]
  },
  {
   "cell_type": "markdown",
   "id": "ccfca513",
   "metadata": {},
   "source": [
    "# 任务1：实现线性模型"
   ]
  },
  {
   "cell_type": "markdown",
   "id": "9d2b3d62",
   "metadata": {},
   "source": [
    "## 1.1 Softmax计算\n",
    "\n",
    "- 输入x：一个K维的向量\n",
    "- 输出o：一个K维的向量\n",
    "- 计算过程\n",
    "    - $o = \\exp(x)$ 这是一个向量\n",
    "    - $sum\\_o = \\text{sum}(o)$ 这是一个标量\n",
    "    - $o = \\frac{o}{sum\\_o}$\n",
    "- 使用的函数请参考文档，包括np.exp、np.sum等"
   ]
  },
  {
   "cell_type": "code",
   "execution_count": null,
   "id": "d37a30ba-8d2a-45fc-a385-cada130f1e86",
   "metadata": {},
   "outputs": [],
   "source": [
    "def softmax(x):\n",
    "    # TODO: 计算输入Numpy向量x的softmax函数计算结果\n",
    "    \n",
    "    return o"
   ]
  },
  {
   "cell_type": "markdown",
   "id": "6c994fab",
   "metadata": {},
   "source": [
    "## 1.2 验证softmax模块\n",
    "\n",
    "输出结果大致为$[0.032,  0.087,  0.237,  0.644]$"
   ]
  },
  {
   "cell_type": "code",
   "execution_count": null,
   "id": "9e460ecd",
   "metadata": {},
   "outputs": [],
   "source": [
    "x = np.array([1, 2, 3, 4])\n",
    "o = softmax(x)\n",
    "print(o)"
   ]
  },
  {
   "cell_type": "markdown",
   "id": "af9122e0",
   "metadata": {},
   "source": [
    "## 1.3 模型正向预测\n",
    "- 输入x：一个K维的向量\n",
    "- 输入weight：一个N * K维的矩阵\n",
    "- 输入bias：一个N维的向量\n",
    "- 输出o：一个N维的概率向量\n",
    "- 计算过程：\n",
    "    - 利用线性模型得到输出\n",
    "    - 用你实现的softmax对输出进行处理，得到概率向量\n",
    "    \n",
    "可能用到np.matmul等函数。"
   ]
  },
  {
   "cell_type": "code",
   "execution_count": null,
   "id": "c1194c55-5ed5-4789-8bac-51888bbe1354",
   "metadata": {},
   "outputs": [],
   "source": [
    "def forward(x, weight, bias):\n",
    "    # TODO: 给定模型参数，计算模型预测结果o\n",
    "    \n",
    "    \n",
    "    return o"
   ]
  },
  {
   "cell_type": "markdown",
   "id": "be9e3b41",
   "metadata": {},
   "source": [
    "## 1.4 验证正向预测过程\n",
    "\n",
    "输出结果大致为[9.11e-04 9.99e-01]"
   ]
  },
  {
   "cell_type": "code",
   "execution_count": null,
   "id": "bd6fc403",
   "metadata": {},
   "outputs": [],
   "source": [
    "w = np.array([[1, 2], [3, 4]])\n",
    "b = np.array([1, 2])\n",
    "x = np.array([1, 2])\n",
    "y = forward(x, w, b)\n",
    "print(y)"
   ]
  },
  {
   "cell_type": "markdown",
   "id": "eb3a7e0c",
   "metadata": {},
   "source": [
    "# 任务2：计算损失函数\n",
    "- 输入y：一个整数，表示真实标签\n",
    "- 输入o：一个N维向量，表示模型的预测概率（已经经过softmax处理了的模型输出结果）\n",
    "- 输出loss：一个实数，表示损失函数的计算结果\n",
    "\n",
    "这里可能用到np.log等函数"
   ]
  },
  {
   "cell_type": "code",
   "execution_count": null,
   "id": "de075af3",
   "metadata": {},
   "outputs": [],
   "source": [
    "def cross_entropy_loss(y, o):\n",
    "    label_num = o.shape[0]\n",
    "    y_onehot = np.zeros(label_num)\n",
    "    \n",
    "    # TODO: 把y转换到y_onehot上，然后计算交叉熵loss\n",
    "    \n",
    "    return loss"
   ]
  },
  {
   "cell_type": "markdown",
   "id": "217daece",
   "metadata": {},
   "source": [
    "## 验证损失函数计算\n",
    "输出结果大致为0.6931"
   ]
  },
  {
   "cell_type": "code",
   "execution_count": null,
   "id": "e710402e",
   "metadata": {},
   "outputs": [],
   "source": [
    "y = 0\n",
    "o = np.array([0.5, 0.25, 0.25])\n",
    "print(cross_entropy_loss(y, o))"
   ]
  },
  {
   "cell_type": "markdown",
   "id": "82142e19",
   "metadata": {},
   "source": [
    "# 任务3：实现梯度计算过程\n",
    "\n",
    "- 输入x：一个K维的向量\n",
    "- 输入o：一个N维的向量\n",
    "- 输入y：一个整数的标签\n",
    "- 输入weight：一个N * K维的矩阵\n",
    "- 输入bias：一个N维的向量\n",
    "- 输出weight_grad：一个N * K维的矩阵，是由loss计算到的weight的梯度\n",
    "- 输出bias_grad：一个N维的向量，是由loss计算到的bias的梯度\n",
    "\n",
    "这里可能会用到np.outer函数。"
   ]
  },
  {
   "cell_type": "code",
   "execution_count": null,
   "id": "af72f25c",
   "metadata": {},
   "outputs": [],
   "source": [
    "def backward(x, o, y, weight, bias):\n",
    "    label_num = o.shape[0]\n",
    "    y_onehot = np.zeros(label_num)\n",
    "    \n",
    "    # TODO: 把y转换到y_onehot上，然后计算模型参数的梯度\n",
    "    \n",
    "    \n",
    "    return weight_grad, bias_grad"
   ]
  },
  {
   "cell_type": "markdown",
   "id": "21702b09",
   "metadata": {},
   "source": [
    "## 验证梯度计算公式\n",
    "\n",
    "输出结果大致为(array([[ 0.00091105,  0.0018221 ],\n",
    "       [-0.00091105, -0.0018221 ]]), array([ 0.00091105, -0.00091105]))"
   ]
  },
  {
   "cell_type": "code",
   "execution_count": null,
   "id": "3a5b6a66",
   "metadata": {},
   "outputs": [],
   "source": [
    "w = np.array([[1, 2], [3, 4]])\n",
    "b = np.array([1, 2])\n",
    "x = np.array([1, 2])\n",
    "y = 1\n",
    "o = forward(x, w, b)\n",
    "print(backward(x, o, y, w, b))"
   ]
  },
  {
   "cell_type": "markdown",
   "id": "8e9ff4de",
   "metadata": {},
   "source": [
    "# 任务4：模型训练\n",
    "\n"
   ]
  },
  {
   "cell_type": "markdown",
   "id": "31ca130e",
   "metadata": {},
   "source": [
    "## 准备步骤\n",
    "\n",
    "加载数据，初始化模型参数，定义关键变量"
   ]
  },
  {
   "cell_type": "code",
   "execution_count": null,
   "id": "fdac14e3",
   "metadata": {},
   "outputs": [],
   "source": [
    "label_num = 3\n",
    "input_size = 13\n",
    "\n",
    "epoches = 1000\n",
    "learning_rate = 0.01\n",
    "\n",
    "trainset = np.load(\"trainset.npy\", allow_pickle=True)\n",
    "testset = np.load(\"testset.npy\", allow_pickle=True)\n",
    "\n",
    "weight = np.random.uniform(-0.1, 0.1, (label_num, input_size))\n",
    "bias = np.random.uniform(-0.1, 0.1, label_num)"
   ]
  },
  {
   "cell_type": "markdown",
   "id": "226e350d",
   "metadata": {},
   "source": [
    "## 模型训练\n",
    "\n",
    "如果上述三个模块实现正确，loss将越来越小、逐渐收敛。"
   ]
  },
  {
   "cell_type": "code",
   "execution_count": null,
   "id": "d1135fc2",
   "metadata": {},
   "outputs": [],
   "source": [
    "for epoch in range(1, epoches+1):\n",
    "    \n",
    "    total_loss = total_weight_grad = total_bias_grad = 0\n",
    "    count = 0\n",
    "    \n",
    "    for x, y in trainset:\n",
    "        \n",
    "        # TODO: 得到模型预测结果o\n",
    "        o = \n",
    "        \n",
    "        # TODO: 计算损失函数loss\n",
    "        loss = \n",
    "        \n",
    "        # TODO: 计算梯度\n",
    "        weight_grad, bias_grad = \n",
    "        \n",
    "        count += 1\n",
    "        total_loss += loss\n",
    "        total_weight_grad += weight_grad\n",
    "        total_bias_grad += bias_grad\n",
    "    \n",
    "    # TODO：实现SGD公式\n",
    "    weight = \n",
    "    bias = \n",
    "    \n",
    "    avg_loss = total_loss / count\n",
    "    print('epoch=%d, averaged loss=%.3f' % (epoch, avg_loss))\n",
    "    \n",
    "    "
   ]
  },
  {
   "cell_type": "markdown",
   "id": "ac73ca77",
   "metadata": {},
   "source": [
    "# 任务5：验证模型准确度"
   ]
  },
  {
   "cell_type": "markdown",
   "id": "73364673",
   "metadata": {},
   "source": [
    "## 实现准确度计算模块"
   ]
  },
  {
   "cell_type": "code",
   "execution_count": null,
   "id": "3ff5b4ce",
   "metadata": {},
   "outputs": [],
   "source": [
    "def calc_accuracy(weight, bias, dataset):\n",
    "    # 返回模型在数据集上的预测准确率\n",
    "    \n",
    "    correct = 0\n",
    "    count = 0\n",
    "    for x, y in dataset:\n",
    "        \n",
    "        # TODO：获取模型预测结果\n",
    "        o = \n",
    "        \n",
    "        # TODO: 取出模型置信度最大是哪个维度\n",
    "        \n",
    "        # TODO：比较模型预测结果，计算correct（正确计数）和count（总量计数）\n",
    "        \n",
    "\n",
    "    acc = correct / count\n",
    "    return acc"
   ]
  },
  {
   "cell_type": "markdown",
   "id": "520720c5",
   "metadata": {},
   "source": [
    "## 计算准确度 \n",
    "计算并输出模型在trainset和test上的预测准确率"
   ]
  },
  {
   "cell_type": "code",
   "execution_count": null,
   "id": "6649540b",
   "metadata": {},
   "outputs": [],
   "source": [
    "# TODO: 统计训练集和测试集上的准确率\n",
    "train_acc = \n",
    "test_acc = \n",
    "\n",
    "print(train_acc, test_acc)"
   ]
  }
 ],
 "metadata": {
  "kernelspec": {
   "display_name": "Python 3 (ipykernel)",
   "language": "python",
   "name": "python3"
  },
  "language_info": {
   "codemirror_mode": {
    "name": "ipython",
    "version": 3
   },
   "file_extension": ".py",
   "mimetype": "text/x-python",
   "name": "python",
   "nbconvert_exporter": "python",
   "pygments_lexer": "ipython3",
   "version": "3.8.11"
  }
 },
 "nbformat": 4,
 "nbformat_minor": 5
}
