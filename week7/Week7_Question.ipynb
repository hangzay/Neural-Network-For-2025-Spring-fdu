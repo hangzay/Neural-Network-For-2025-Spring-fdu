{
 "cells": [
  {
   "cell_type": "code",
   "execution_count": 1,
   "metadata": {},
   "outputs": [],
   "source": [
    "import os\n",
    "\n",
    "import torch\n",
    "import torch.nn as nn\n",
    "import torchvision\n",
    "from tqdm import tqdm\n",
    "\n",
    "import pickle\n",
    "from matplotlib import pyplot as plt"
   ]
  },
  {
   "cell_type": "markdown",
   "metadata": {},
   "source": [
    "## 1. Two-Step对抗训练\n",
    "\n",
    "- 在前两周的实验中，你已经实现了简单的单步对抗攻击（FGSM）和迭代对抗攻击（PGD）；\n",
    "\n",
    "- 在本周的第一个实验中，请实现一个Two-Step对抗训练防御算法，并测试其在训练集、测试集上的预测表现，以及其对FGSM、PGD的防御效果；\n",
    "\n",
    "- 具体实验步骤如下：\n",
    "\n",
    "  1. 将代码文件（Python文件与Notebook文件）上传到服务器端根目录；\n",
    "\n",
    "  2. 将样本数据（Week567_img_label.pkl）上传至服务器端data/目录下；\n",
    "\n",
    "  3. 将之前训练的模型参数（lenet5.pt）上传至服务器端model/目录下；\n",
    "\n",
    "  4. 依照提示，完成**Python文件**与**Notebook文件**中的TODO内容；"
   ]
  },
  {
   "cell_type": "code",
   "execution_count": 2,
   "metadata": {},
   "outputs": [],
   "source": [
    "from Week567_General_Code_Question import LeNet5, load_mnist, fgsm, pgd\n",
    "from Week567_General_Code_Question import evaluate"
   ]
  },
  {
   "cell_type": "code",
   "execution_count": 3,
   "metadata": {},
   "outputs": [],
   "source": [
    "# Parameter\n",
    "batch_size = 128\n",
    "epsilon = 0.2\n",
    "iter = 20\n",
    "alpha = 0.07"
   ]
  },
  {
   "cell_type": "code",
   "execution_count": 4,
   "metadata": {},
   "outputs": [
    {
     "name": "stderr",
     "output_type": "stream",
     "text": [
      "C:\\Users\\w2213\\AppData\\Local\\Temp\\ipykernel_17528\\462089170.py:3: FutureWarning: You are using `torch.load` with `weights_only=False` (the current default value), which uses the default pickle module implicitly. It is possible to construct malicious pickle data which will execute arbitrary code during unpickling (See https://github.com/pytorch/pytorch/blob/main/SECURITY.md#untrusted-models for more details). In a future release, the default value for `weights_only` will be flipped to `True`. This limits the functions that could be executed during unpickling. Arbitrary objects will no longer be allowed to be loaded via this mode unless they are explicitly allowlisted by the user via `torch.serialization.add_safe_globals`. We recommend you start setting `weights_only=True` for any use case where you don't have full control of the loaded file. Please open an issue on GitHub for any issues related to this experimental feature.\n",
      "  model.load_state_dict(torch.load('model/lenet5.pt'))\n"
     ]
    }
   ],
   "source": [
    "# Model\n",
    "model = LeNet5()\n",
    "model.load_state_dict(torch.load('model/lenet5.pt'))\n",
    "model.eval()\n",
    "\n",
    "# Data\n",
    "criterion = nn.CrossEntropyLoss()\n",
    "train_loader, test_loader = load_mnist(batch_size=batch_size)"
   ]
  },
  {
   "cell_type": "markdown",
   "metadata": {},
   "source": [
    "### 生成对抗样本"
   ]
  },
  {
   "cell_type": "code",
   "execution_count": 5,
   "metadata": {},
   "outputs": [
    {
     "name": "stderr",
     "output_type": "stream",
     "text": [
      "100%|██████████| 469/469 [01:48<00:00,  4.33it/s]\n"
     ]
    }
   ],
   "source": [
    "fgsm_imgs, pgd_imgs, labels = [], [], []\n",
    "\n",
    "for img, label in tqdm(train_loader):\n",
    "    # benign imgs\n",
    "    fgsm_imgs.append(img)\n",
    "    pgd_imgs.append(img)\n",
    "    labels.append(label)\n",
    "\n",
    "    # adv imgs\n",
    "    fgsm_img = fgsm(img, epsilon, model, criterion, label)\n",
    "    fgsm_imgs.append(fgsm_img)\n",
    "    \n",
    "    pgd_img = pgd(img, epsilon, alpha, iter, model, criterion, label)\n",
    "    pgd_imgs.append(pgd_img)\n",
    "    labels.append(label)\n",
    "\n",
    "fgsm_imgs = torch.cat(fgsm_imgs, dim=0).detach()\n",
    "pgd_imgs = torch.cat(pgd_imgs, dim=0).detach()\n",
    "labels = torch.cat(labels, dim=0).detach()"
   ]
  },
  {
   "cell_type": "code",
   "execution_count": 6,
   "metadata": {},
   "outputs": [],
   "source": [
    "fgsm_trainset = torch.utils.data.TensorDataset(fgsm_imgs, labels)\n",
    "pgd_trainset = torch.utils.data.TensorDataset(pgd_imgs, labels)\n",
    "fgsm_trainloader = torch.utils.data.DataLoader(fgsm_trainset, batch_size=batch_size * 2, shuffle=False)\n",
    "pgd_trainloader = torch.utils.data.DataLoader(pgd_trainset, batch_size=batch_size * 2, shuffle=False)"
   ]
  },
  {
   "cell_type": "markdown",
   "metadata": {},
   "source": [
    "### 实现Two-Step对抗训练\n",
    "- 请在下面的block中实现基于FGSM/PGD的Two-Step对抗训练攻击\n",
    "  - adv_train_two_step(data_loader, epoch, lr, criterion, adv_loss_weight=1)\n",
    "- 算法流程\n",
    "  - 从dataloader中取出成对的正常样本和对抗样本，分别计算loss然后求和，再反传梯度更新模型\n",
    "  > tips: “分别计算loss”便于我们为不同的loss赋予不同的权重\n",
    "    > - benign_loss前面乘上一个较大的系数，就会使模型更倾向于准确预测正常样本；\n",
    "    > - adv_loss前面乘上一个较大的系数，就会使模型更倾向于准确预测对抗样本"
   ]
  },
  {
   "cell_type": "code",
   "execution_count": 7,
   "metadata": {},
   "outputs": [],
   "source": [
    "def adv_train_two_step(data_loader, epoch, lr, criterion, adv_loss_weight=1):\n",
    "    model = LeNet5()\n",
    "    model.load_state_dict(torch.load('model/lenet5.pt'))\n",
    "    model.train()\n",
    "\n",
    "    optimizer = torch.optim.SGD(model.parameters(), lr=lr)\n",
    "\n",
    "    for e in range(epoch):\n",
    "        t = tqdm(data_loader)\n",
    "        for img, label in t:\n",
    "            benign_img, benign_label = img[:img.shape[0] // 2], label[:label.shape[0] // 2]\n",
    "            adv_img, adv_label = img[img.shape[0] // 2:], label[label.shape[0] // 2:]\n",
    "\n",
    "            optimizer.zero_grad()\n",
    "\n",
    "            # TODO: Forward and compute loss for benign samples\n",
    "            benign_loss = criterion(model(benign_img), benign_label)\n",
    "            \n",
    "            # TODO: Forward and compute loss for adversarial examples\n",
    "            adv_loss = criterion(model(adv_img), adv_label)\n",
    "            \n",
    "            # TODO: Calculate the total loss, then backward\n",
    "  \n",
    "            loss = benign_loss + adv_loss_weight * adv_loss\n",
    "            loss.backward()\n",
    "            optimizer.step()\n",
    "\n",
    "            t.set_postfix(epoch=e, benign_loss=benign_loss.item(), adv_loss=adv_loss.item())\n",
    "\n",
    "    return model"
   ]
  },
  {
   "cell_type": "markdown",
   "metadata": {},
   "source": [
    "- 使用fgsm进行对抗训练"
   ]
  },
  {
   "cell_type": "code",
   "execution_count": 8,
   "metadata": {},
   "outputs": [
    {
     "name": "stderr",
     "output_type": "stream",
     "text": [
      "C:\\Users\\w2213\\AppData\\Local\\Temp\\ipykernel_17528\\266348951.py:3: FutureWarning: You are using `torch.load` with `weights_only=False` (the current default value), which uses the default pickle module implicitly. It is possible to construct malicious pickle data which will execute arbitrary code during unpickling (See https://github.com/pytorch/pytorch/blob/main/SECURITY.md#untrusted-models for more details). In a future release, the default value for `weights_only` will be flipped to `True`. This limits the functions that could be executed during unpickling. Arbitrary objects will no longer be allowed to be loaded via this mode unless they are explicitly allowlisted by the user via `torch.serialization.add_safe_globals`. We recommend you start setting `weights_only=True` for any use case where you don't have full control of the loaded file. Please open an issue on GitHub for any issues related to this experimental feature.\n",
      "  model.load_state_dict(torch.load('model/lenet5.pt'))\n",
      "100%|██████████| 469/469 [00:10<00:00, 44.74it/s, adv_loss=0.0485, benign_loss=0.0664, epoch=0]\n",
      "100%|██████████| 469/469 [00:10<00:00, 44.25it/s, adv_loss=0.0202, benign_loss=0.0443, epoch=1] \n",
      "100%|██████████| 469/469 [00:10<00:00, 46.14it/s, adv_loss=0.0115, benign_loss=0.0329, epoch=2] \n",
      "100%|██████████| 469/469 [00:10<00:00, 45.14it/s, adv_loss=0.00797, benign_loss=0.0264, epoch=3]\n",
      "100%|██████████| 469/469 [00:10<00:00, 44.87it/s, adv_loss=0.00618, benign_loss=0.0223, epoch=4] \n",
      "100%|██████████| 469/469 [00:10<00:00, 44.97it/s, adv_loss=0.0048, benign_loss=0.0188, epoch=5]  \n",
      "100%|██████████| 469/469 [00:10<00:00, 45.26it/s, adv_loss=0.00383, benign_loss=0.0159, epoch=6]  \n",
      "100%|██████████| 469/469 [00:10<00:00, 45.74it/s, adv_loss=0.00321, benign_loss=0.0142, epoch=7]  \n",
      "100%|██████████| 469/469 [00:10<00:00, 46.10it/s, adv_loss=0.00277, benign_loss=0.0128, epoch=8]  \n",
      "100%|██████████| 469/469 [00:10<00:00, 44.11it/s, adv_loss=0.00237, benign_loss=0.0109, epoch=9]  \n",
      "100%|██████████| 469/469 [00:10<00:00, 45.41it/s, adv_loss=0.00209, benign_loss=0.00953, epoch=10] \n",
      "100%|██████████| 469/469 [00:10<00:00, 44.62it/s, adv_loss=0.0019, benign_loss=0.00843, epoch=11]  \n",
      "100%|██████████| 469/469 [00:10<00:00, 45.44it/s, adv_loss=0.00178, benign_loss=0.00776, epoch=12] \n",
      "100%|██████████| 469/469 [00:10<00:00, 45.96it/s, adv_loss=0.00168, benign_loss=0.0067, epoch=13]  \n",
      "100%|██████████| 469/469 [00:10<00:00, 44.43it/s, adv_loss=0.00168, benign_loss=0.00605, epoch=14] \n",
      "100%|██████████| 469/469 [00:10<00:00, 46.76it/s, adv_loss=0.0017, benign_loss=0.00553, epoch=15]  \n",
      "100%|██████████| 469/469 [00:10<00:00, 44.97it/s, adv_loss=0.00172, benign_loss=0.00504, epoch=16] \n",
      "100%|██████████| 469/469 [00:10<00:00, 44.39it/s, adv_loss=0.0017, benign_loss=0.0047, epoch=17]   \n",
      "100%|██████████| 469/469 [00:10<00:00, 45.18it/s, adv_loss=0.00171, benign_loss=0.00443, epoch=18] \n",
      "100%|██████████| 469/469 [00:10<00:00, 44.65it/s, adv_loss=0.00169, benign_loss=0.00416, epoch=19] \n"
     ]
    }
   ],
   "source": [
    "lr = 0.01\n",
    "epoch = 20\n",
    "\n",
    "cnn_fgsm_two_step = adv_train_two_step(fgsm_trainloader, epoch, lr, criterion)\n",
    "torch.save(cnn_fgsm_two_step.state_dict(), 'model/cnn_fgsm_two_step.pt')"
   ]
  },
  {
   "cell_type": "markdown",
   "metadata": {},
   "source": [
    "- 使用pgd进行对抗训练"
   ]
  },
  {
   "cell_type": "code",
   "execution_count": 9,
   "metadata": {},
   "outputs": [
    {
     "name": "stderr",
     "output_type": "stream",
     "text": [
      "C:\\Users\\w2213\\AppData\\Local\\Temp\\ipykernel_17528\\266348951.py:3: FutureWarning: You are using `torch.load` with `weights_only=False` (the current default value), which uses the default pickle module implicitly. It is possible to construct malicious pickle data which will execute arbitrary code during unpickling (See https://github.com/pytorch/pytorch/blob/main/SECURITY.md#untrusted-models for more details). In a future release, the default value for `weights_only` will be flipped to `True`. This limits the functions that could be executed during unpickling. Arbitrary objects will no longer be allowed to be loaded via this mode unless they are explicitly allowlisted by the user via `torch.serialization.add_safe_globals`. We recommend you start setting `weights_only=True` for any use case where you don't have full control of the loaded file. Please open an issue on GitHub for any issues related to this experimental feature.\n",
      "  model.load_state_dict(torch.load('model/lenet5.pt'))\n",
      "100%|██████████| 469/469 [00:10<00:00, 44.09it/s, adv_loss=0.0641, benign_loss=0.0613, epoch=0]\n",
      "100%|██████████| 469/469 [00:10<00:00, 45.75it/s, adv_loss=0.0365, benign_loss=0.042, epoch=1] \n",
      "100%|██████████| 469/469 [00:10<00:00, 44.65it/s, adv_loss=0.0263, benign_loss=0.0311, epoch=2]\n",
      "100%|██████████| 469/469 [00:10<00:00, 46.06it/s, adv_loss=0.0211, benign_loss=0.0267, epoch=3] \n",
      "100%|██████████| 469/469 [00:10<00:00, 43.91it/s, adv_loss=0.0162, benign_loss=0.0221, epoch=4] \n",
      "100%|██████████| 469/469 [00:10<00:00, 45.62it/s, adv_loss=0.0137, benign_loss=0.02, epoch=5]    \n",
      "100%|██████████| 469/469 [00:10<00:00, 43.46it/s, adv_loss=0.0113, benign_loss=0.0184, epoch=6]  \n",
      "100%|██████████| 469/469 [00:11<00:00, 40.95it/s, adv_loss=0.0095, benign_loss=0.0167, epoch=7]  \n",
      "100%|██████████| 469/469 [00:11<00:00, 42.35it/s, adv_loss=0.00802, benign_loss=0.0152, epoch=8] \n",
      "100%|██████████| 469/469 [00:10<00:00, 43.69it/s, adv_loss=0.00687, benign_loss=0.0135, epoch=9] \n",
      "100%|██████████| 469/469 [00:10<00:00, 45.48it/s, adv_loss=0.00603, benign_loss=0.0126, epoch=10] \n",
      "100%|██████████| 469/469 [00:10<00:00, 44.73it/s, adv_loss=0.00537, benign_loss=0.0113, epoch=11] \n",
      "100%|██████████| 469/469 [00:10<00:00, 44.28it/s, adv_loss=0.0048, benign_loss=0.0103, epoch=12]   \n",
      "100%|██████████| 469/469 [00:10<00:00, 42.92it/s, adv_loss=0.00438, benign_loss=0.00928, epoch=13] \n",
      "100%|██████████| 469/469 [00:10<00:00, 42.84it/s, adv_loss=0.00388, benign_loss=0.00857, epoch=14]\n",
      "100%|██████████| 469/469 [00:10<00:00, 43.22it/s, adv_loss=0.0034, benign_loss=0.00784, epoch=15]  \n",
      "100%|██████████| 469/469 [00:10<00:00, 44.08it/s, adv_loss=0.00313, benign_loss=0.00738, epoch=16] \n",
      "100%|██████████| 469/469 [00:11<00:00, 42.36it/s, adv_loss=0.00275, benign_loss=0.00679, epoch=17] \n",
      "100%|██████████| 469/469 [00:10<00:00, 43.81it/s, adv_loss=0.00251, benign_loss=0.00643, epoch=18] \n",
      "100%|██████████| 469/469 [00:10<00:00, 43.92it/s, adv_loss=0.00229, benign_loss=0.00587, epoch=19] \n"
     ]
    }
   ],
   "source": [
    "lr = 0.01\n",
    "epoch = 20\n",
    "\n",
    "cnn_pgd_two_step = adv_train_two_step(pgd_trainloader, epoch, lr, criterion)\n",
    "torch.save(cnn_pgd_two_step.state_dict(), 'model/cnn_pgd_two_step.pt')\n",
    "# 训练后保存好模型文件，以便检查时快速测试结果"
   ]
  },
  {
   "cell_type": "markdown",
   "metadata": {},
   "source": [
    "### 评测模型性能\n",
    "- 请在Python文件Week567_General_Code_Question.py中补全函数如下：\n",
    "  - 在`evaluate_dataloader(dataloader, model)`函数实现模型测试过程"
   ]
  },
  {
   "cell_type": "code",
   "execution_count": 10,
   "metadata": {},
   "outputs": [],
   "source": [
    "from Week567_General_Code_Question import evaluate_dataloader"
   ]
  },
  {
   "cell_type": "markdown",
   "metadata": {},
   "source": [
    "- 测试基于FGSM执行Two-Step对抗训练的CNN的预测质量"
   ]
  },
  {
   "cell_type": "code",
   "execution_count": 11,
   "metadata": {},
   "outputs": [
    {
     "name": "stderr",
     "output_type": "stream",
     "text": [
      "100%|██████████| 79/79 [00:00<00:00, 104.58it/s, test_acc=0.913]\n"
     ]
    }
   ],
   "source": [
    "evaluate_dataloader(test_loader, cnn_fgsm_two_step)"
   ]
  },
  {
   "cell_type": "markdown",
   "metadata": {},
   "source": [
    "- 测试基于PGD执行Two-Step对抗训练的CNN的预测质量"
   ]
  },
  {
   "cell_type": "code",
   "execution_count": 12,
   "metadata": {},
   "outputs": [
    {
     "name": "stderr",
     "output_type": "stream",
     "text": [
      "100%|██████████| 79/79 [00:00<00:00, 101.82it/s, test_acc=0.961]\n"
     ]
    }
   ],
   "source": [
    "evaluate_dataloader(test_loader, cnn_pgd_two_step)"
   ]
  },
  {
   "cell_type": "markdown",
   "metadata": {},
   "source": [
    "### 评测防御效果"
   ]
  },
  {
   "cell_type": "code",
   "execution_count": 13,
   "metadata": {},
   "outputs": [],
   "source": [
    "with open('data/Week567_img_label.pkl', 'rb') as f:\n",
    "    data = pickle.load(f)\n",
    "    imgs, labels = data['img'], data['label']"
   ]
  },
  {
   "cell_type": "markdown",
   "metadata": {},
   "source": [
    "- 评测基于FGSM执行Two-Step对抗训练的模型针对FGSM/PGD攻击的防御效果"
   ]
  },
  {
   "cell_type": "code",
   "execution_count": 14,
   "metadata": {},
   "outputs": [
    {
     "name": "stdout",
     "output_type": "stream",
     "text": [
      "For FGSM Two-Step.\n",
      "\n",
      "Against FGSM:\n",
      "match rate: 0.1\n",
      "Against PGD:\n",
      "match rate: 0.1\n"
     ]
    }
   ],
   "source": [
    "print(\"For FGSM Two-Step.\\n\")\n",
    "print(\"Against FGSM:\")\n",
    "epsilon = 0.08 # TODO: epsilon=0.03和0.2的情况也需要测试\n",
    "\n",
    "adv_xs = fgsm(imgs, epsilon, cnn_fgsm_two_step, criterion, labels)\n",
    "pred_label = evaluate(adv_xs, labels, cnn_fgsm_two_step)\n",
    "\n",
    "\n",
    "print(\"Against PGD:\")\n",
    "alpha = 0.07\n",
    "iter = 30\n",
    "\n",
    "adv_xs = pgd(imgs, epsilon, alpha, iter, cnn_fgsm_two_step, criterion, labels)\n",
    "\n",
    "pred_label = evaluate(adv_xs, labels, cnn_fgsm_two_step)"
   ]
  },
  {
   "cell_type": "markdown",
   "metadata": {},
   "source": [
    "- 评测基于PGD执行Two-Step对抗训练的模型针对FGSM/PGD攻击的防御效果"
   ]
  },
  {
   "cell_type": "code",
   "execution_count": 15,
   "metadata": {},
   "outputs": [
    {
     "name": "stdout",
     "output_type": "stream",
     "text": [
      "For PGD Two-Step.\n",
      "\n",
      "Against FGSM:\n",
      "match rate: 0.45\n",
      "Against PGD:\n",
      "match rate: 0.3\n"
     ]
    }
   ],
   "source": [
    "print(\"For PGD Two-Step.\\n\")\n",
    "print(\"Against FGSM:\")\n",
    "epsilon = 0.08 # TODO: epsilon=0.03和0.2的情况也需要测试\n",
    "\n",
    "adv_xs = fgsm(imgs, epsilon, cnn_pgd_two_step, criterion, labels)\n",
    "pred_label = evaluate(adv_xs, labels, cnn_pgd_two_step)\n",
    "\n",
    "\n",
    "print(\"Against PGD:\")\n",
    "alpha = 0.07\n",
    "iter = 30\n",
    "\n",
    "adv_xs = pgd(imgs, epsilon, alpha, iter, cnn_pgd_two_step, criterion, labels)\n",
    "\n",
    "pred_label = evaluate(adv_xs, labels, cnn_pgd_two_step)"
   ]
  },
  {
   "cell_type": "markdown",
   "metadata": {},
   "source": [
    "---"
   ]
  },
  {
   "cell_type": "markdown",
   "metadata": {},
   "source": [
    "## 2. 迭代对抗训练\n",
    "\n",
    "- 在上一部分中，你已经实现了第一个对抗防御算法；\n",
    "- 接下来，请模仿**Two-Step对抗训练**算法实现**迭代对抗训练**算法，并测试其在训练集、测试集上的预测表现，以及其对FGSM、PGD的防御效果；\n",
    "\n",
    "- 具体实验步骤如下：\n",
    "\n",
    "  1. 将代码文件（Python文件与Notebook文件）上传到服务器端根目录；\n",
    "\n",
    "  2. 将样本数据（Week567_img_label.pkl）上传至服务器端data/目录下；\n",
    "\n",
    "  3. 将之前训练的模型参数（lenet5.pt）上传至服务器端model/目录下；\n",
    "\n",
    "  4. 依照提示，完成**Notebook文件**中的TODO内容；"
   ]
  },
  {
   "cell_type": "markdown",
   "metadata": {},
   "source": [
    "### 实现迭代对抗训练\n",
    "- 请在下面的block中分别实现基于FGSM和PGD的迭代对抗训练攻击函数：\n",
    "  - adv_train_iter_fgsm(data_loader, epoch, lr, criterion, epsilon, adv_loss_weight=1.)\n",
    "  - adv_train_iter_pgd(data_loader, epoch, lr, criterion, epsilon, iter=20, adv_loss_weight=1.)\n",
    "- 算法流程\n",
    "  1. 从data_loader中取出正常样本对(img,label)\n",
    "  2. 使用之前实现的FGSM/PGD算法，基于(img,label)生成对抗样本(adv_img,label)\n",
    "      > tips: 之前版本实现的FGSM/PGD算法最后包含了`.detach()`操作，因此梯度不会传递到adv_img上\n",
    "  3. 基于正常样本和对抗样本分别计算loss然后求和，再反传梯度更新模型"
   ]
  },
  {
   "cell_type": "markdown",
   "metadata": {},
   "source": [
    "- 基于FGSM迭代对抗训练cnn模型"
   ]
  },
  {
   "cell_type": "code",
   "execution_count": 16,
   "metadata": {},
   "outputs": [],
   "source": [
    "def adv_train_iter_fgsm(data_loader, epoch, lr, criterion, epsilon, adv_loss_weight=1.):\n",
    "    model = LeNet5()\n",
    "    model.load_state_dict(torch.load('model/lenet5.pt'))\n",
    "    model.train()\n",
    "\n",
    "    optimizer = torch.optim.SGD(model.parameters(), lr=lr)\n",
    "\n",
    "    for e in range(epoch):\n",
    "        t = tqdm(data_loader)\n",
    "        for img, label in t:\n",
    "\n",
    "            optimizer.zero_grad()\n",
    "\n",
    "            # TODO: Forward and compute loss for benign samples\n",
    "            benign_loss = criterion(model(img), label)\n",
    "\n",
    "            # TODO: Generate the adversarial samples, then forward and compute loss for adversarial examples\n",
    "            adv_img = fgsm(img, epsilon, model, criterion, label)\n",
    "            adv_loss = criterion(model(adv_img), label)\n",
    "            \n",
    "            # TODO: Calculate the total loss, then backward\n",
    "            loss = benign_loss + adv_loss_weight * adv_loss\n",
    "            loss.backward()\n",
    "            optimizer.step()\n",
    "\n",
    "            t.set_postfix(epoch=e, benign_loss=benign_loss.item(), adv_loss=adv_loss.item())\n",
    "\n",
    "    return model"
   ]
  },
  {
   "cell_type": "code",
   "execution_count": 17,
   "metadata": {},
   "outputs": [
    {
     "name": "stderr",
     "output_type": "stream",
     "text": [
      "C:\\Users\\w2213\\AppData\\Local\\Temp\\ipykernel_17528\\4253136394.py:3: FutureWarning: You are using `torch.load` with `weights_only=False` (the current default value), which uses the default pickle module implicitly. It is possible to construct malicious pickle data which will execute arbitrary code during unpickling (See https://github.com/pytorch/pytorch/blob/main/SECURITY.md#untrusted-models for more details). In a future release, the default value for `weights_only` will be flipped to `True`. This limits the functions that could be executed during unpickling. Arbitrary objects will no longer be allowed to be loaded via this mode unless they are explicitly allowlisted by the user via `torch.serialization.add_safe_globals`. We recommend you start setting `weights_only=True` for any use case where you don't have full control of the loaded file. Please open an issue on GitHub for any issues related to this experimental feature.\n",
      "  model.load_state_dict(torch.load('model/lenet5.pt'))\n",
      "100%|██████████| 469/469 [00:30<00:00, 15.41it/s, adv_loss=0.598, benign_loss=0.109, epoch=0] \n",
      "100%|██████████| 469/469 [00:30<00:00, 15.47it/s, adv_loss=0.659, benign_loss=0.122, epoch=1] \n",
      "100%|██████████| 469/469 [00:29<00:00, 15.79it/s, adv_loss=0.532, benign_loss=0.0911, epoch=2]\n",
      "100%|██████████| 469/469 [00:30<00:00, 15.29it/s, adv_loss=0.514, benign_loss=0.0705, epoch=3]\n",
      "100%|██████████| 469/469 [00:29<00:00, 15.89it/s, adv_loss=0.441, benign_loss=0.0818, epoch=4]\n",
      "100%|██████████| 469/469 [00:30<00:00, 15.43it/s, adv_loss=0.343, benign_loss=0.0685, epoch=5]\n",
      "100%|██████████| 469/469 [00:29<00:00, 15.93it/s, adv_loss=0.515, benign_loss=0.0644, epoch=6]\n",
      "100%|██████████| 469/469 [00:28<00:00, 16.47it/s, adv_loss=0.385, benign_loss=0.0531, epoch=7]\n",
      "100%|██████████| 469/469 [00:30<00:00, 15.47it/s, adv_loss=0.542, benign_loss=0.141, epoch=8] \n",
      "100%|██████████| 469/469 [00:29<00:00, 16.05it/s, adv_loss=0.484, benign_loss=0.0456, epoch=9]\n",
      "100%|██████████| 469/469 [00:30<00:00, 15.27it/s, adv_loss=0.385, benign_loss=0.0238, epoch=10]\n",
      "100%|██████████| 469/469 [00:30<00:00, 15.56it/s, adv_loss=0.315, benign_loss=0.0296, epoch=11]\n",
      "100%|██████████| 469/469 [00:29<00:00, 15.66it/s, adv_loss=0.367, benign_loss=0.0272, epoch=12]\n",
      "100%|██████████| 469/469 [00:30<00:00, 15.29it/s, adv_loss=0.33, benign_loss=0.0396, epoch=13] \n",
      "100%|██████████| 469/469 [00:30<00:00, 15.18it/s, adv_loss=0.469, benign_loss=0.048, epoch=14]  \n",
      "100%|██████████| 469/469 [00:28<00:00, 16.59it/s, adv_loss=0.247, benign_loss=0.0115, epoch=15] \n",
      "100%|██████████| 469/469 [00:28<00:00, 16.53it/s, adv_loss=0.31, benign_loss=0.0183, epoch=16]  \n",
      "100%|██████████| 469/469 [00:31<00:00, 14.99it/s, adv_loss=0.422, benign_loss=0.0413, epoch=17] \n",
      "100%|██████████| 469/469 [00:29<00:00, 16.11it/s, adv_loss=0.27, benign_loss=0.025, epoch=18]   \n",
      "100%|██████████| 469/469 [00:29<00:00, 15.86it/s, adv_loss=0.214, benign_loss=0.023, epoch=19]  \n"
     ]
    }
   ],
   "source": [
    "lr = 0.01\n",
    "epoch = 20\n",
    "adv_loss_weight = 1.0\n",
    "\n",
    "epsilon = 0.2 \n",
    "\n",
    "cnn_fgsm_iter = adv_train_iter_fgsm(train_loader, epoch, lr, criterion, epsilon, adv_loss_weight)\n",
    "torch.save(cnn_fgsm_iter.state_dict(), 'model/cnn_fgsm_iter.pt')"
   ]
  },
  {
   "cell_type": "markdown",
   "metadata": {},
   "source": [
    "- 基于PGD迭代对抗训练cnn模型"
   ]
  },
  {
   "cell_type": "code",
   "execution_count": 18,
   "metadata": {},
   "outputs": [],
   "source": [
    "def adv_train_iter_pgd(data_loader, epoch, lr, criterion, epsilon, alpha, iter=20, adv_loss_weight=1.):\n",
    "    model = LeNet5()\n",
    "    model.load_state_dict(torch.load('model/lenet5.pt'))\n",
    "    model.train()\n",
    "\n",
    "    optimizer = torch.optim.SGD(model.parameters(), lr=lr)\n",
    "\n",
    "    for e in range(epoch):\n",
    "        t = tqdm(data_loader)\n",
    "        for img, label in t:\n",
    "\n",
    "            optimizer.zero_grad()\n",
    "\n",
    "            # TODO: Forward and compute loss for benign samples\n",
    "            benign_loss = criterion(model(img), label)\n",
    "\n",
    "            # TODO: Generate the adversarial samples, then forward and compute loss for adversarial examples\n",
    "            adv_img = pgd(img, epsilon, alpha, iter, model, criterion, label)\n",
    "            adv_loss = criterion(model(adv_img), label)\n",
    "            \n",
    "            # TODO: Calculate the total loss, then backward\n",
    "            loss = benign_loss + adv_loss_weight * adv_loss\n",
    "            loss.backward()\n",
    "            optimizer.step()\n",
    "\n",
    "            t.set_postfix(epoch=e, benign_loss=benign_loss.item(), adv_loss=adv_loss.item())\n",
    "\n",
    "    return model"
   ]
  },
  {
   "cell_type": "code",
   "execution_count": 19,
   "metadata": {},
   "outputs": [
    {
     "name": "stderr",
     "output_type": "stream",
     "text": [
      "C:\\Users\\w2213\\AppData\\Local\\Temp\\ipykernel_17528\\2073553708.py:3: FutureWarning: You are using `torch.load` with `weights_only=False` (the current default value), which uses the default pickle module implicitly. It is possible to construct malicious pickle data which will execute arbitrary code during unpickling (See https://github.com/pytorch/pytorch/blob/main/SECURITY.md#untrusted-models for more details). In a future release, the default value for `weights_only` will be flipped to `True`. This limits the functions that could be executed during unpickling. Arbitrary objects will no longer be allowed to be loaded via this mode unless they are explicitly allowlisted by the user via `torch.serialization.add_safe_globals`. We recommend you start setting `weights_only=True` for any use case where you don't have full control of the loaded file. Please open an issue on GitHub for any issues related to this experimental feature.\n",
      "  model.load_state_dict(torch.load('model/lenet5.pt'))\n",
      "100%|██████████| 469/469 [01:56<00:00,  4.03it/s, adv_loss=0.44, benign_loss=0.135, epoch=0]  \n",
      "100%|██████████| 469/469 [01:56<00:00,  4.01it/s, adv_loss=0.452, benign_loss=0.0864, epoch=1]\n",
      "100%|██████████| 469/469 [01:56<00:00,  4.02it/s, adv_loss=0.24, benign_loss=0.0796, epoch=2] \n",
      "100%|██████████| 469/469 [01:56<00:00,  4.02it/s, adv_loss=0.454, benign_loss=0.092, epoch=3] \n",
      "100%|██████████| 469/469 [01:57<00:00,  4.00it/s, adv_loss=0.39, benign_loss=0.0988, epoch=4] \n",
      "100%|██████████| 469/469 [01:56<00:00,  4.01it/s, adv_loss=0.359, benign_loss=0.0598, epoch=5]\n",
      "100%|██████████| 469/469 [01:55<00:00,  4.05it/s, adv_loss=0.398, benign_loss=0.0535, epoch=6] \n",
      "100%|██████████| 469/469 [01:56<00:00,  4.03it/s, adv_loss=0.306, benign_loss=0.0698, epoch=7]\n",
      "100%|██████████| 469/469 [01:57<00:00,  3.98it/s, adv_loss=0.348, benign_loss=0.0514, epoch=8]\n",
      "100%|██████████| 469/469 [01:56<00:00,  4.02it/s, adv_loss=0.475, benign_loss=0.148, epoch=9]  \n",
      "100%|██████████| 469/469 [01:55<00:00,  4.05it/s, adv_loss=0.368, benign_loss=0.0824, epoch=10]\n",
      "100%|██████████| 469/469 [01:56<00:00,  4.04it/s, adv_loss=0.307, benign_loss=0.0319, epoch=11]\n",
      "100%|██████████| 469/469 [01:57<00:00,  4.00it/s, adv_loss=0.181, benign_loss=0.0303, epoch=12]\n",
      "100%|██████████| 469/469 [01:56<00:00,  4.03it/s, adv_loss=0.218, benign_loss=0.0395, epoch=13]\n",
      "100%|██████████| 469/469 [01:57<00:00,  4.00it/s, adv_loss=0.192, benign_loss=0.0268, epoch=14] \n",
      "100%|██████████| 469/469 [01:56<00:00,  4.01it/s, adv_loss=0.322, benign_loss=0.0514, epoch=15] \n",
      "100%|██████████| 469/469 [01:56<00:00,  4.03it/s, adv_loss=0.314, benign_loss=0.0528, epoch=16]\n",
      "100%|██████████| 469/469 [01:56<00:00,  4.02it/s, adv_loss=0.202, benign_loss=0.0487, epoch=17]  \n",
      "100%|██████████| 469/469 [01:56<00:00,  4.02it/s, adv_loss=0.169, benign_loss=0.0505, epoch=18]  \n",
      "100%|██████████| 469/469 [01:56<00:00,  4.04it/s, adv_loss=0.3, benign_loss=0.0675, epoch=19]    \n"
     ]
    }
   ],
   "source": [
    "lr = 0.01\n",
    "epoch = 20\n",
    "adv_loss_weight = 1.0\n",
    "\n",
    "epsilon = 0.2\n",
    "iter = 20\n",
    "\n",
    "cnn_pgd_iter = adv_train_iter_pgd(train_loader, epoch, lr, criterion, epsilon, alpha, iter, adv_loss_weight)\n",
    "torch.save(cnn_pgd_iter.state_dict(), 'model/cnn_pgd_iter.pt')\n",
    "# 训练后保存好模型文件，以便检查时快速测试结果"
   ]
  },
  {
   "cell_type": "markdown",
   "metadata": {},
   "source": [
    "### 评测模型性能"
   ]
  },
  {
   "cell_type": "markdown",
   "metadata": {},
   "source": [
    "- 测试基于FGSM执行迭代对抗训练的CNN的预测质量"
   ]
  },
  {
   "cell_type": "code",
   "execution_count": 20,
   "metadata": {},
   "outputs": [
    {
     "name": "stderr",
     "output_type": "stream",
     "text": [
      "100%|██████████| 79/79 [00:00<00:00, 106.96it/s, test_acc=0.99] \n"
     ]
    }
   ],
   "source": [
    "evaluate_dataloader(test_loader, cnn_fgsm_iter)"
   ]
  },
  {
   "cell_type": "markdown",
   "metadata": {},
   "source": [
    "- 测试基于PGD执行迭代对抗训练的CNN的预测质量"
   ]
  },
  {
   "cell_type": "code",
   "execution_count": 21,
   "metadata": {},
   "outputs": [
    {
     "name": "stderr",
     "output_type": "stream",
     "text": [
      "100%|██████████| 79/79 [00:00<00:00, 104.98it/s, test_acc=0.983]\n"
     ]
    }
   ],
   "source": [
    "evaluate_dataloader(test_loader, cnn_pgd_iter)"
   ]
  },
  {
   "cell_type": "markdown",
   "metadata": {},
   "source": [
    "### 评测防御效果"
   ]
  },
  {
   "cell_type": "code",
   "execution_count": 22,
   "metadata": {},
   "outputs": [],
   "source": [
    "with open('data/Week567_img_label.pkl', 'rb') as f:\n",
    "    data = pickle.load(f)\n",
    "    imgs, labels = data['img'], data['label']"
   ]
  },
  {
   "cell_type": "markdown",
   "metadata": {},
   "source": [
    "- 评测基于FGSM执行迭代对抗训练的模型针对FGSM/PGD攻击的防御效果"
   ]
  },
  {
   "cell_type": "code",
   "execution_count": 23,
   "metadata": {},
   "outputs": [
    {
     "name": "stdout",
     "output_type": "stream",
     "text": [
      "For FGSM Iterative.\n",
      "\n",
      "Against FGSM:\n",
      "match rate: 0.8\n",
      "Against PGD:\n",
      "match rate: 0.6\n"
     ]
    }
   ],
   "source": [
    "print(\"For FGSM Iterative.\\n\")\n",
    "print(\"Against FGSM:\")\n",
    "epsilon = 0.2  # TODO: epsilon=0.08和0.3的情况也需要测试\n",
    "\n",
    "adv_xs = fgsm(imgs, epsilon, cnn_fgsm_iter, criterion, labels)\n",
    "pred_label = evaluate(adv_xs, labels, cnn_fgsm_iter)\n",
    "\n",
    "\n",
    "print(\"Against PGD:\")\n",
    "alpha = 0.07\n",
    "iter = 30\n",
    "\n",
    "adv_xs = pgd(imgs, epsilon, alpha, iter, cnn_fgsm_iter, criterion, labels)\n",
    "\n",
    "pred_label = evaluate(adv_xs, labels, cnn_fgsm_iter)"
   ]
  },
  {
   "cell_type": "markdown",
   "metadata": {},
   "source": [
    "- 评测基于PGD执行迭代对抗训练的模型针对FGSM/PGD攻击的防御效果"
   ]
  },
  {
   "cell_type": "code",
   "execution_count": 24,
   "metadata": {},
   "outputs": [
    {
     "name": "stdout",
     "output_type": "stream",
     "text": [
      "For PGD Iterative.\n",
      "\n",
      "Against FGSM:\n",
      "match rate: 0.9\n",
      "Against PGD:\n",
      "match rate: 0.8\n"
     ]
    }
   ],
   "source": [
    "print(\"For PGD Iterative.\\n\")\n",
    "print(\"Against FGSM:\")\n",
    "epsilon = 0.2 # TODO: epsilon=0.08和0.3的情况也需要测试\n",
    "\n",
    "adv_xs = fgsm(imgs, epsilon, cnn_pgd_iter, criterion, labels)\n",
    "pred_label = evaluate(adv_xs, labels, cnn_pgd_iter)\n",
    "\n",
    "\n",
    "print(\"Against PGD:\")\n",
    "alpha = 0.07\n",
    "iter = 30\n",
    "\n",
    "adv_xs = pgd(imgs, epsilon, alpha, iter, cnn_pgd_iter, criterion, labels)\n",
    "\n",
    "pred_label = evaluate(adv_xs, labels, cnn_pgd_iter)"
   ]
  }
 ],
 "metadata": {
  "kernelspec": {
   "display_name": "myenv",
   "language": "python",
   "name": "python3"
  },
  "language_info": {
   "codemirror_mode": {
    "name": "ipython",
    "version": 3
   },
   "file_extension": ".py",
   "mimetype": "text/x-python",
   "name": "python",
   "nbconvert_exporter": "python",
   "pygments_lexer": "ipython3",
   "version": "3.12.7"
  }
 },
 "nbformat": 4,
 "nbformat_minor": 4
}
